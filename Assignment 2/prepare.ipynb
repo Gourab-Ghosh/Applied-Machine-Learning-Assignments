{
 "cells": [
  {
   "cell_type": "markdown",
   "metadata": {},
   "source": [
    "# **Resources Utilized for Project Implementation**\n",
    "- [Get Started: Data Versioning](https://dvc.org/doc/start/data-management/data-versioning)\n",
    "- [How to connect DVC to Google Drive (remote storage) to store and version your data](https://blog.devgenius.io/how-to-connect-dvc-to-google-drive-remote-storage-to-store-and-version-your-data-64db2fad73ad)\n",
    "- [MLOps Tutorial #2: When data is too big for Git](https://youtu.be/kZKAuShWF0s)"
   ]
  },
  {
   "cell_type": "markdown",
   "metadata": {},
   "source": [
    "# Importing Necessary Libraries"
   ]
  },
  {
   "cell_type": "code",
   "execution_count": 1,
   "metadata": {},
   "outputs": [],
   "source": [
    "import os\n",
    "import subprocess\n",
    "import pandas as pd\n",
    "from sklearn.model_selection import train_test_split"
   ]
  },
  {
   "cell_type": "markdown",
   "metadata": {},
   "source": [
    "# Defining Necessary Constants"
   ]
  },
  {
   "cell_type": "code",
   "execution_count": 2,
   "metadata": {},
   "outputs": [],
   "source": [
    "DATA_FOLDER = os.path.abspath(\"data\")\n",
    "SEED1 = 8576\n",
    "SEED2 = 202016"
   ]
  },
  {
   "cell_type": "markdown",
   "metadata": {},
   "source": [
    "# Defining Necessary Functions"
   ]
  },
  {
   "cell_type": "code",
   "execution_count": 3,
   "metadata": {},
   "outputs": [],
   "source": [
    "def read_data(csv_name: str) -> pd.DataFrame:\n",
    "    # Read CSV data from the DATA_FOLDER\n",
    "    return pd.read_csv(\n",
    "        os.path.join(\n",
    "            DATA_FOLDER,\n",
    "            csv_name,\n",
    "        )\n",
    "    )\n",
    "\n",
    "def split_data(raw_data: pd.DataFrame, seed: int) -> tuple[pd.DataFrame, pd.DataFrame, pd.DataFrame]:\n",
    "    # Split the data into training, validation, and test sets\n",
    "    train_data, temp_data = train_test_split(raw_data, test_size = 0.2, random_state = seed)\n",
    "    validation_data, test_data = train_test_split(temp_data, test_size = 0.5, random_state = seed)\n",
    "    return train_data, validation_data, test_data\n",
    "\n",
    "def save_data(train_data: pd.DataFrame, validation_data: pd.DataFrame, test_data: pd.DataFrame):\n",
    "    # Save the split data into CSV files\n",
    "    for df, filename in zip(\n",
    "        [train_data, validation_data, test_data],\n",
    "        [\"train.csv\", \"validation.csv\", \"test.csv\"],\n",
    "    ):\n",
    "        df.to_csv(\n",
    "            os.path.join(\n",
    "                DATA_FOLDER,\n",
    "                filename,\n",
    "            ),\n",
    "            index = False,\n",
    "        )\n",
    "\n",
    "def read_split_and_save_data(csv_name: str, seed: int):\n",
    "    # Combining reading, splitting and saving data together\n",
    "    save_data(*split_data(read_data(csv_name), seed))\n",
    "\n",
    "def print_distribution_of_the_splits():\n",
    "    # Print the distribution of the splitted data\n",
    "    print(f\"Distribution of the Splitted Data:\")\n",
    "    for filename in [\"train.csv\", \"validation.csv\", \"test.csv\"]:\n",
    "        data_type = os.path.splitext(filename)[0].title()\n",
    "        df = read_data(filename)\n",
    "        zero_count = (df[\"spam\"] == 0).count()\n",
    "        one_count = (df[\"spam\"] == 1).count()\n",
    "        print(f\"\\nData Type: {data_type}\\n0 count: {zero_count}\\n1 count: {one_count}\")"
   ]
  },
  {
   "cell_type": "markdown",
   "metadata": {},
   "source": [
    "# Initializing DVC"
   ]
  },
  {
   "cell_type": "code",
   "execution_count": 4,
   "metadata": {},
   "outputs": [
    {
     "name": "stdout",
     "output_type": "stream",
     "text": [
      "Initialized DVC repository.\n",
      "\n",
      "You can now commit the changes to git.\n",
      "\n",
      "\u001b[31m+---------------------------------------------------------------------+\n",
      "\u001b[0m\u001b[31m|\u001b[0m                                                                     \u001b[31m|\u001b[0m\n",
      "\u001b[31m|\u001b[0m        DVC has enabled anonymous aggregate usage analytics.         \u001b[31m|\u001b[0m\n",
      "\u001b[31m|\u001b[0m     Read the analytics documentation (and how to opt-out) here:     \u001b[31m|\u001b[0m\n",
      "\u001b[31m|\u001b[0m             <\u001b[36mhttps://dvc.org/doc/user-guide/analytics\u001b[39m>              \u001b[31m|\u001b[0m\n",
      "\u001b[31m|\u001b[0m                                                                     \u001b[31m|\u001b[0m\n",
      "\u001b[31m+---------------------------------------------------------------------+\n",
      "\u001b[0m\n",
      "\u001b[33mWhat's next?\u001b[39m\n",
      "\u001b[33m------------\u001b[39m\n",
      "- Check out the documentation: <\u001b[36mhttps://dvc.org/doc\u001b[39m>\n",
      "- Get help and share ideas: <\u001b[36mhttps://dvc.org/chat\u001b[39m>\n",
      "- Star us on GitHub: <\u001b[36mhttps://github.com/iterative/dvc\u001b[39m>\n",
      "\u001b[0m"
     ]
    }
   ],
   "source": [
    "!dvc init --subdir"
   ]
  },
  {
   "cell_type": "markdown",
   "metadata": {},
   "source": [
    "# Adding Gdrive as Remote"
   ]
  },
  {
   "cell_type": "code",
   "execution_count": 5,
   "metadata": {},
   "outputs": [
    {
     "name": "stdout",
     "output_type": "stream",
     "text": [
      "Setting 'drive' as a default remote.\n",
      "\u001b[0m\u001b[0m[main 7304aa7] Adding Gdrive as Remote\n",
      " 3 files changed, 11 insertions(+)\n",
      " create mode 100644 Assignment 2/.dvc/.gitignore\n",
      " create mode 100644 Assignment 2/.dvc/config\n",
      " create mode 100644 Assignment 2/.dvcignore\n"
     ]
    }
   ],
   "source": [
    "!dvc remote add --default drive gdrive://18yyvV_GDAQe3SpAQnCZg-aCau_XrogpR\n",
    "!dvc remote modify drive gdrive_acknowledge_abuse true\n",
    "!git add .dvc/config\n",
    "!git commit -m \"Adding Gdrive as Remote\""
   ]
  },
  {
   "cell_type": "markdown",
   "metadata": {},
   "source": [
    "# Adding Raw Data via DVC"
   ]
  },
  {
   "cell_type": "code",
   "execution_count": 6,
   "metadata": {},
   "outputs": [
    {
     "name": "stdout",
     "output_type": "stream",
     "text": [
      "\u001b[?25l\u001b[32m⠋\u001b[0m Checking graph\n",
      "\u001b[1A\u001b[2K\u001b[0m[main ac4cc52] Adding Raw Data for Assignment 2\n",
      " 2 files changed, 6 insertions(+)\n",
      " create mode 100644 Assignment 2/data/.gitignore\n",
      " create mode 100644 Assignment 2/data/raw_data.csv.dvc\n"
     ]
    }
   ],
   "source": [
    "!dvc add data/raw_data.csv -q\n",
    "!git add data/.gitignore data/raw_data.csv.dvc\n",
    "!git commit -m \"Adding Raw Data for Assignment 2\""
   ]
  },
  {
   "cell_type": "markdown",
   "metadata": {},
   "source": [
    "# Reading, Splitting and Saving Data with SEED1"
   ]
  },
  {
   "cell_type": "code",
   "execution_count": 7,
   "metadata": {},
   "outputs": [],
   "source": [
    "read_split_and_save_data(\"raw_data.csv\", SEED1)"
   ]
  },
  {
   "cell_type": "markdown",
   "metadata": {},
   "source": [
    "# Adding Train, Validation and Test Data via DVC"
   ]
  },
  {
   "cell_type": "code",
   "execution_count": 8,
   "metadata": {},
   "outputs": [
    {
     "name": "stdout",
     "output_type": "stream",
     "text": [
      "\u001b[?25l\u001b[32m⠋\u001b[0m Checking graph\n",
      "\u001b[1A\u001b[2K\u001b[0m[main b7b55e7] Adding Train, Validation and Test for Assignment 2\n",
      " 4 files changed, 18 insertions(+)\n",
      " create mode 100644 Assignment 2/data/test.csv.dvc\n",
      " create mode 100644 Assignment 2/data/train.csv.dvc\n",
      " create mode 100644 Assignment 2/data/validation.csv.dvc\n"
     ]
    }
   ],
   "source": [
    "!dvc add data/train.csv data/validation.csv data/test.csv -q\n",
    "!git add data/.gitignore data/train.csv.dvc data/validation.csv.dvc data/test.csv.dvc\n",
    "!git commit -m \"Adding Train, Validation and Test for Assignment 2\""
   ]
  },
  {
   "cell_type": "markdown",
   "metadata": {},
   "source": [
    "# Reading, Splitting and Saving Data with SEED2"
   ]
  },
  {
   "cell_type": "code",
   "execution_count": 9,
   "metadata": {},
   "outputs": [],
   "source": [
    "read_split_and_save_data(\"raw_data.csv\", SEED2)"
   ]
  },
  {
   "cell_type": "markdown",
   "metadata": {},
   "source": [
    "# Adding Updated Train, Validation and Test Data via DVC"
   ]
  },
  {
   "cell_type": "code",
   "execution_count": 10,
   "metadata": {},
   "outputs": [
    {
     "name": "stdout",
     "output_type": "stream",
     "text": [
      "\u001b[?25l\u001b[32m⠋\u001b[0m Checking graph\n",
      "\u001b[1A\u001b[2K\u001b[0m[main ef059f7] Adding Updated Train, Validation and Test for Assignment 2\n",
      " 3 files changed, 6 insertions(+), 6 deletions(-)\n"
     ]
    }
   ],
   "source": [
    "!dvc add data/train.csv data/validation.csv data/test.csv -q\n",
    "!git add data/.gitignore data/train.csv.dvc data/validation.csv.dvc data/test.csv.dvc\n",
    "!git commit -m \"Adding Updated Train, Validation and Test for Assignment 2\""
   ]
  },
  {
   "cell_type": "markdown",
   "metadata": {},
   "source": [
    "# Checking Out the First Version"
   ]
  },
  {
   "cell_type": "code",
   "execution_count": 11,
   "metadata": {},
   "outputs": [
    {
     "name": "stdout",
     "output_type": "stream",
     "text": [
      "Updated 3 paths from 798e933\n",
      "Building workspace index                              |5.00 [00:00, 5.02entry/s]\n",
      "Comparing indexes                                     |6.00 [00:00,  596entry/s]\n",
      "Applying changes                                      |3.00 [00:00,   406file/s]\n",
      "\u001b[33mM\u001b[0m       data/test.csv\n",
      "\u001b[33mM\u001b[0m       data/train.csv\n",
      "\u001b[33mM\u001b[0m       data/validation.csv\n",
      "\u001b[0m"
     ]
    }
   ],
   "source": [
    "all_commits = subprocess.getoutput(\"git log --oneline\").splitlines()\n",
    "commit_id_line = [line for line in all_commits if \"Adding Train, Validation and Test for Assignment 2\" in line][0]\n",
    "commit_id = commit_id_line.split()[0]\n",
    "\n",
    "!git checkout $commit_id data/train.csv.dvc data/validation.csv.dvc data/test.csv.dvc\n",
    "!dvc checkout"
   ]
  },
  {
   "cell_type": "markdown",
   "metadata": {},
   "source": [
    "# Printing Out the Distribution of the Target Variable before Update"
   ]
  },
  {
   "cell_type": "code",
   "execution_count": 12,
   "metadata": {},
   "outputs": [
    {
     "name": "stdout",
     "output_type": "stream",
     "text": [
      "Distribution of the Splitted Data:\n",
      "\n",
      "Data Type: Train\n",
      "0 count: 4582\n",
      "1 count: 4582\n",
      "\n",
      "Data Type: Validation\n",
      "0 count: 573\n",
      "1 count: 573\n",
      "\n",
      "Data Type: Test\n",
      "0 count: 573\n",
      "1 count: 573\n"
     ]
    }
   ],
   "source": [
    "print_distribution_of_the_splits()"
   ]
  },
  {
   "cell_type": "markdown",
   "metadata": {},
   "source": [
    "# Checking Out the Updated Version"
   ]
  },
  {
   "cell_type": "code",
   "execution_count": 13,
   "metadata": {},
   "outputs": [
    {
     "name": "stdout",
     "output_type": "stream",
     "text": [
      "Updated 3 paths from 57c4bb9\n",
      "Building workspace index                              |5.00 [00:00,  232entry/s]\n",
      "Comparing indexes                                    |6.00 [00:00, 1.34kentry/s]\n",
      "Applying changes                                      |3.00 [00:00,   488file/s]\n",
      "\u001b[33mM\u001b[0m       data/validation.csv\n",
      "\u001b[33mM\u001b[0m       data/train.csv\n",
      "\u001b[33mM\u001b[0m       data/test.csv\n",
      "\u001b[0m"
     ]
    }
   ],
   "source": [
    "all_commits = subprocess.getoutput(\"git log --oneline\").splitlines()\n",
    "commit_id_line = [line for line in all_commits if \"Adding Updated Train, Validation and Test for Assignment 2\" in line][0]\n",
    "commit_id = commit_id_line.split()[0]\n",
    "\n",
    "!git checkout $commit_id data/train.csv.dvc data/validation.csv.dvc data/test.csv.dvc\n",
    "!dvc checkout"
   ]
  },
  {
   "cell_type": "markdown",
   "metadata": {},
   "source": [
    "# Printing out the Distribution of the Target Variable after Update"
   ]
  },
  {
   "cell_type": "code",
   "execution_count": 14,
   "metadata": {},
   "outputs": [
    {
     "name": "stdout",
     "output_type": "stream",
     "text": [
      "Distribution of the Splitted Data:\n",
      "\n",
      "Data Type: Train\n",
      "0 count: 4582\n",
      "1 count: 4582\n",
      "\n",
      "Data Type: Validation\n",
      "0 count: 573\n",
      "1 count: 573\n",
      "\n",
      "Data Type: Test\n",
      "0 count: 573\n",
      "1 count: 573\n"
     ]
    }
   ],
   "source": [
    "print_distribution_of_the_splits()"
   ]
  },
  {
   "cell_type": "markdown",
   "metadata": {},
   "source": [
    "# Pushing All Data to Google Drive"
   ]
  },
  {
   "cell_type": "code",
   "execution_count": 15,
   "metadata": {},
   "outputs": [
    {
     "name": "stdout",
     "output_type": "stream",
     "text": [
      "\u001b[0m"
     ]
    }
   ],
   "source": [
    "!dvc push -q"
   ]
  }
 ],
 "metadata": {
  "kernelspec": {
   "display_name": "aml",
   "language": "python",
   "name": "python3"
  },
  "language_info": {
   "codemirror_mode": {
    "name": "ipython",
    "version": 3
   },
   "file_extension": ".py",
   "mimetype": "text/x-python",
   "name": "python",
   "nbconvert_exporter": "python",
   "pygments_lexer": "ipython3",
   "version": "3.11.7"
  }
 },
 "nbformat": 4,
 "nbformat_minor": 2
}
