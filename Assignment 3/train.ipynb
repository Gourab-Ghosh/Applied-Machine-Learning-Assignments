{
 "cells": [
  {
   "cell_type": "markdown",
   "metadata": {},
   "source": [
    "# Using Assignment 1 Code to Train Model"
   ]
  },
  {
   "cell_type": "markdown",
   "metadata": {},
   "source": [
    "# Importing Required Libraries"
   ]
  },
  {
   "cell_type": "code",
   "execution_count": 1,
   "metadata": {},
   "outputs": [],
   "source": [
    "import pandas as pd, warnings, numpy as np, joblib\n",
    "from typing import Tuple\n",
    "from sklearn.feature_extraction.text import TfidfVectorizer\n",
    "from sklearn.metrics import accuracy_score, classification_report, confusion_matrix\n",
    "from sklearn.ensemble import RandomForestClassifier\n",
    "from sklearn.naive_bayes import MultinomialNB\n",
    "from sklearn.svm import SVC"
   ]
  },
  {
   "cell_type": "markdown",
   "metadata": {},
   "source": [
    "# Disable all warning messages"
   ]
  },
  {
   "cell_type": "code",
   "execution_count": 2,
   "metadata": {},
   "outputs": [],
   "source": [
    "warnings.filterwarnings(\"ignore\")"
   ]
  },
  {
   "cell_type": "markdown",
   "metadata": {},
   "source": [
    "# Defining Necessary Constants"
   ]
  },
  {
   "cell_type": "code",
   "execution_count": 3,
   "metadata": {},
   "outputs": [],
   "source": [
    "SEED = 8576\n",
    "\n",
    "# Loading processed data\n",
    "TRAIN_DATA = pd.read_csv(\"train.csv\")\n",
    "VALIDATION_DATA = pd.read_csv(\"validation.csv\")\n",
    "TEST_DATA = pd.read_csv(\"test.csv\")\n",
    "N_JOBS = 1\n",
    "SKIP_FINE_TUNING = False\n",
    "\n",
    "# Benchmarking multiple models\n",
    "MODELS = {\n",
    "    \"Multinomial Naive Bayes\": MultinomialNB(),\n",
    "    \"Random Forest\": RandomForestClassifier(random_state = SEED),\n",
    "    \"Support Vector Machine\": SVC(random_state = SEED),\n",
    "}"
   ]
  },
  {
   "cell_type": "markdown",
   "metadata": {},
   "source": [
    "# Defining Necessary Functions"
   ]
  },
  {
   "cell_type": "code",
   "execution_count": 4,
   "metadata": {},
   "outputs": [],
   "source": [
    "MODEL = MultinomialNB | RandomForestClassifier | SVC\n",
    "\n",
    "# Function to fit a model on train data\n",
    "def fit_model(\n",
    "    train_data: pd.DataFrame,\n",
    "    vectorizer: TfidfVectorizer,\n",
    "    model: MODEL,\n",
    ") -> Tuple[MODEL, TfidfVectorizer]:\n",
    "    X_train = vectorizer.fit_transform(train_data[\"text\"])\n",
    "    y_train = train_data[\"spam\"]\n",
    "\n",
    "    model.fit(X_train, y_train)\n",
    "\n",
    "    return model, vectorizer\n",
    "\n",
    "# Function to score a model on given data\n",
    "def score_model(\n",
    "    model: MODEL,\n",
    "    vectorizer: TfidfVectorizer,\n",
    "    data: pd.DataFrame,\n",
    ") -> Tuple[float, str | dict, np.ndarray]:\n",
    "    X = vectorizer.transform(data[\"text\"])\n",
    "    y_true = data[\"spam\"]\n",
    "\n",
    "    y_pred = model.predict(X)\n",
    "\n",
    "    accuracy = accuracy_score(y_true, y_pred)\n",
    "    report = classification_report(y_true, y_pred, target_names = [\"Ham\", \"Spam\"])\n",
    "    confusion_mat = confusion_matrix(y_true, y_pred)\n",
    "\n",
    "    return accuracy, report, confusion_mat\n",
    "\n",
    "# Function to validate the model using cross-validation\n",
    "def cross_validate_model(\n",
    "    model: MODEL,\n",
    "    vectorizer: TfidfVectorizer,\n",
    "    data: pd.DataFrame,\n",
    ") -> float:\n",
    "    X = vectorizer.transform(data[\"text\"])\n",
    "    y = data[\"spam\"]\n",
    "\n",
    "    scores = cross_val_score(model, X, y, cv = 5, scoring = \"accuracy\")\n",
    "\n",
    "    return scores.mean()\n",
    "\n",
    "# Function to score and evaluate model\n",
    "def score_and_evaluate_model_and_get_accuracy(\n",
    "    model: MODEL,\n",
    "    vectorizer: TfidfVectorizer,\n",
    "    check_data: pd.DataFrame,\n",
    "    check_data_type: str,\n",
    ") -> float:\n",
    "    check_accuracy, check_classification_report, check_confusion_mat = score_model(model, vectorizer, check_data)\n",
    "    print(f\"{check_data_type} Accuracy: {round(100 * check_accuracy, 2)} %\")\n",
    "    print(f\"{check_data_type} Classification Report:\\n{check_classification_report}\")\n",
    "    print(f\"{check_data_type} Confusion Matrix:\")\n",
    "    return check_accuracy"
   ]
  },
  {
   "cell_type": "markdown",
   "metadata": {},
   "source": [
    "# Selecting Best Model through Accuracy "
   ]
  },
  {
   "cell_type": "code",
   "execution_count": 5,
   "metadata": {},
   "outputs": [],
   "source": [
    "best_model = None\n",
    "best_model_vectorizer = None\n",
    "best_accuracy = 0"
   ]
  },
  {
   "cell_type": "markdown",
   "metadata": {},
   "source": [
    "# Fitting Model for Multinomial Naive Bayes"
   ]
  },
  {
   "cell_type": "code",
   "execution_count": 6,
   "metadata": {},
   "outputs": [],
   "source": [
    "model, vectorizer = fit_model(TRAIN_DATA, TfidfVectorizer(), MODELS[\"Multinomial Naive Bayes\"])"
   ]
  },
  {
   "cell_type": "markdown",
   "metadata": {},
   "source": [
    "# Scoring and Evaluating on Train Data for Multinomial Naive Bayes"
   ]
  },
  {
   "cell_type": "code",
   "execution_count": 7,
   "metadata": {},
   "outputs": [
    {
     "name": "stdout",
     "output_type": "stream",
     "text": [
      "Train Data Accuracy: 93.98 %\n",
      "Train Data Classification Report:\n",
      "              precision    recall  f1-score   support\n",
      "\n",
      "         Ham       0.93      1.00      0.96      3328\n",
      "        Spam       1.00      0.75      0.86      1075\n",
      "\n",
      "    accuracy                           0.94      4403\n",
      "   macro avg       0.96      0.88      0.91      4403\n",
      "weighted avg       0.94      0.94      0.94      4403\n",
      "\n",
      "Train Data Confusion Matrix:\n"
     ]
    }
   ],
   "source": [
    "_ = score_and_evaluate_model_and_get_accuracy(model, vectorizer, TRAIN_DATA, \"Train Data\")"
   ]
  },
  {
   "cell_type": "markdown",
   "metadata": {},
   "source": [
    "# Scoring and Evaluating on Validation Data for Multinomial Naive Bayes"
   ]
  },
  {
   "cell_type": "code",
   "execution_count": 8,
   "metadata": {},
   "outputs": [
    {
     "name": "stdout",
     "output_type": "stream",
     "text": [
      "Validation Data Accuracy: 90.55 %\n",
      "Validation Data Classification Report:\n",
      "              precision    recall  f1-score   support\n",
      "\n",
      "         Ham       0.89      1.00      0.94       412\n",
      "        Spam       1.00      0.62      0.77       138\n",
      "\n",
      "    accuracy                           0.91       550\n",
      "   macro avg       0.94      0.81      0.85       550\n",
      "weighted avg       0.92      0.91      0.90       550\n",
      "\n",
      "Validation Data Confusion Matrix:\n"
     ]
    }
   ],
   "source": [
    "_ = score_and_evaluate_model_and_get_accuracy(model, vectorizer, VALIDATION_DATA, \"Validation Data\")"
   ]
  },
  {
   "cell_type": "markdown",
   "metadata": {},
   "source": [
    "# Scoring and Evaluating on Test Data for Multinomial Naive Bayes"
   ]
  },
  {
   "cell_type": "code",
   "execution_count": 9,
   "metadata": {},
   "outputs": [
    {
     "name": "stdout",
     "output_type": "stream",
     "text": [
      "Test Data Accuracy: 89.29 %\n",
      "Test Data Classification Report:\n",
      "              precision    recall  f1-score   support\n",
      "\n",
      "         Ham       0.87      1.00      0.93       397\n",
      "        Spam       1.00      0.62      0.76       154\n",
      "\n",
      "    accuracy                           0.89       551\n",
      "   macro avg       0.94      0.81      0.85       551\n",
      "weighted avg       0.91      0.89      0.88       551\n",
      "\n",
      "Test Data Confusion Matrix:\n"
     ]
    }
   ],
   "source": [
    "# Score on test\n",
    "test_accuracy = score_and_evaluate_model_and_get_accuracy(model, vectorizer, TEST_DATA, \"Test Data\")\n",
    "\n",
    "# Select the best model based on accuracy\n",
    "if test_accuracy > best_accuracy:\n",
    "    best_accuracy = test_accuracy\n",
    "    best_model = model\n",
    "    best_model_vectorizer = vectorizer"
   ]
  },
  {
   "cell_type": "markdown",
   "metadata": {},
   "source": [
    "# Fitting Model for Random Forest (If Necessary)"
   ]
  },
  {
   "cell_type": "code",
   "execution_count": 10,
   "metadata": {},
   "outputs": [],
   "source": [
    "model, vectorizer = fit_model(TRAIN_DATA, TfidfVectorizer(), MODELS[\"Random Forest\"])"
   ]
  },
  {
   "cell_type": "markdown",
   "metadata": {},
   "source": [
    "# Scoring and Evaluating on Train Data for Random Forest"
   ]
  },
  {
   "cell_type": "code",
   "execution_count": 11,
   "metadata": {},
   "outputs": [
    {
     "name": "stdout",
     "output_type": "stream",
     "text": [
      "Train Data Accuracy: 100.0 %\n",
      "Train Data Classification Report:\n",
      "              precision    recall  f1-score   support\n",
      "\n",
      "         Ham       1.00      1.00      1.00      3328\n",
      "        Spam       1.00      1.00      1.00      1075\n",
      "\n",
      "    accuracy                           1.00      4403\n",
      "   macro avg       1.00      1.00      1.00      4403\n",
      "weighted avg       1.00      1.00      1.00      4403\n",
      "\n",
      "Train Data Confusion Matrix:\n"
     ]
    }
   ],
   "source": [
    "_ = score_and_evaluate_model_and_get_accuracy(model, vectorizer, TRAIN_DATA, \"Train Data\")"
   ]
  },
  {
   "cell_type": "markdown",
   "metadata": {},
   "source": [
    "# Scoring and Evaluating on Validation Data for Random Forest"
   ]
  },
  {
   "cell_type": "code",
   "execution_count": 12,
   "metadata": {},
   "outputs": [
    {
     "name": "stdout",
     "output_type": "stream",
     "text": [
      "Validation Data Accuracy: 98.18 %\n",
      "Validation Data Classification Report:\n",
      "              precision    recall  f1-score   support\n",
      "\n",
      "         Ham       0.98      1.00      0.99       412\n",
      "        Spam       1.00      0.93      0.96       138\n",
      "\n",
      "    accuracy                           0.98       550\n",
      "   macro avg       0.99      0.96      0.98       550\n",
      "weighted avg       0.98      0.98      0.98       550\n",
      "\n",
      "Validation Data Confusion Matrix:\n"
     ]
    }
   ],
   "source": [
    "_ = score_and_evaluate_model_and_get_accuracy(model, vectorizer, VALIDATION_DATA, \"Validation Data\")"
   ]
  },
  {
   "cell_type": "markdown",
   "metadata": {},
   "source": [
    "# Scoring and Evaluating on Test Data for Random Forest"
   ]
  },
  {
   "cell_type": "code",
   "execution_count": 13,
   "metadata": {},
   "outputs": [
    {
     "name": "stdout",
     "output_type": "stream",
     "text": [
      "Test Data Accuracy: 96.91 %\n",
      "Test Data Classification Report:\n",
      "              precision    recall  f1-score   support\n",
      "\n",
      "         Ham       0.96      1.00      0.98       397\n",
      "        Spam       0.99      0.90      0.94       154\n",
      "\n",
      "    accuracy                           0.97       551\n",
      "   macro avg       0.98      0.95      0.96       551\n",
      "weighted avg       0.97      0.97      0.97       551\n",
      "\n",
      "Test Data Confusion Matrix:\n"
     ]
    }
   ],
   "source": [
    "# Score on test\n",
    "test_accuracy = score_and_evaluate_model_and_get_accuracy(model, vectorizer, TEST_DATA, \"Test Data\")\n",
    "\n",
    "# Select the best model based on accuracy\n",
    "if test_accuracy > best_accuracy:\n",
    "    best_accuracy = test_accuracy\n",
    "    best_model = model\n",
    "    best_model_vectorizer = vectorizer"
   ]
  },
  {
   "cell_type": "markdown",
   "metadata": {},
   "source": [
    "# Fitting Model for Support Vector Machine"
   ]
  },
  {
   "cell_type": "code",
   "execution_count": 14,
   "metadata": {},
   "outputs": [],
   "source": [
    "model, vectorizer = fit_model(TRAIN_DATA, TfidfVectorizer(), MODELS[\"Support Vector Machine\"])"
   ]
  },
  {
   "cell_type": "markdown",
   "metadata": {},
   "source": [
    "# Scoring and Evaluating on Train Data for Support Vector Machine"
   ]
  },
  {
   "cell_type": "code",
   "execution_count": 15,
   "metadata": {},
   "outputs": [
    {
     "name": "stdout",
     "output_type": "stream",
     "text": [
      "Train Data Accuracy: 100.0 %\n",
      "Train Data Classification Report:\n",
      "              precision    recall  f1-score   support\n",
      "\n",
      "         Ham       1.00      1.00      1.00      3328\n",
      "        Spam       1.00      1.00      1.00      1075\n",
      "\n",
      "    accuracy                           1.00      4403\n",
      "   macro avg       1.00      1.00      1.00      4403\n",
      "weighted avg       1.00      1.00      1.00      4403\n",
      "\n",
      "Train Data Confusion Matrix:\n"
     ]
    }
   ],
   "source": [
    "_ = score_and_evaluate_model_and_get_accuracy(model, vectorizer, TRAIN_DATA, \"Train Data\")"
   ]
  },
  {
   "cell_type": "markdown",
   "metadata": {},
   "source": [
    "# Scoring and Evaluating on Validation Data for Support Vector Machine"
   ]
  },
  {
   "cell_type": "code",
   "execution_count": 16,
   "metadata": {},
   "outputs": [
    {
     "name": "stdout",
     "output_type": "stream",
     "text": [
      "Validation Data Accuracy: 99.09 %\n",
      "Validation Data Classification Report:\n",
      "              precision    recall  f1-score   support\n",
      "\n",
      "         Ham       0.99      1.00      0.99       412\n",
      "        Spam       1.00      0.96      0.98       138\n",
      "\n",
      "    accuracy                           0.99       550\n",
      "   macro avg       0.99      0.98      0.99       550\n",
      "weighted avg       0.99      0.99      0.99       550\n",
      "\n",
      "Validation Data Confusion Matrix:\n"
     ]
    }
   ],
   "source": [
    "_ = score_and_evaluate_model_and_get_accuracy(model, vectorizer, VALIDATION_DATA, \"Validation Data\")"
   ]
  },
  {
   "cell_type": "markdown",
   "metadata": {},
   "source": [
    "# Scoring and Evaluating on Test Data for Support Vector Machine"
   ]
  },
  {
   "cell_type": "code",
   "execution_count": 17,
   "metadata": {},
   "outputs": [
    {
     "name": "stdout",
     "output_type": "stream",
     "text": [
      "Test Data Accuracy: 99.09 %\n",
      "Test Data Classification Report:\n",
      "              precision    recall  f1-score   support\n",
      "\n",
      "         Ham       0.99      1.00      0.99       397\n",
      "        Spam       1.00      0.97      0.98       154\n",
      "\n",
      "    accuracy                           0.99       551\n",
      "   macro avg       0.99      0.98      0.99       551\n",
      "weighted avg       0.99      0.99      0.99       551\n",
      "\n",
      "Test Data Confusion Matrix:\n"
     ]
    }
   ],
   "source": [
    "# Score on test\n",
    "test_accuracy = score_and_evaluate_model_and_get_accuracy(model, vectorizer, TEST_DATA, \"Test Data\")\n",
    "\n",
    "# Select the best model based on accuracy\n",
    "if test_accuracy > best_accuracy:\n",
    "    best_accuracy = test_accuracy\n",
    "    best_model = model\n",
    "    best_model_vectorizer = vectorizer"
   ]
  },
  {
   "cell_type": "markdown",
   "metadata": {},
   "source": [
    "# Saving Best Model and Vectorizer to a Pickle File"
   ]
  },
  {
   "cell_type": "code",
   "execution_count": 18,
   "metadata": {},
   "outputs": [
    {
     "data": {
      "text/plain": [
       "['tfidf_vectorizer.pkl']"
      ]
     },
     "execution_count": 18,
     "metadata": {},
     "output_type": "execute_result"
    }
   ],
   "source": [
    "joblib.dump(best_model, 'best_model.pkl')\n",
    "joblib.dump(best_model_vectorizer, 'tfidf_vectorizer.pkl')"
   ]
  }
 ],
 "metadata": {
  "kernelspec": {
   "display_name": "Python 3",
   "language": "python",
   "name": "python3"
  },
  "language_info": {
   "codemirror_mode": {
    "name": "ipython",
    "version": 3
   },
   "file_extension": ".py",
   "mimetype": "text/x-python",
   "name": "python",
   "nbconvert_exporter": "python",
   "pygments_lexer": "ipython3",
   "version": "3.11.8"
  }
 },
 "nbformat": 4,
 "nbformat_minor": 2
}
