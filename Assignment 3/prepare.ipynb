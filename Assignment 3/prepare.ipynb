{
 "cells": [
  {
   "cell_type": "markdown",
   "metadata": {},
   "source": [
    "# Using Assignment 1 Code to Train Model"
   ]
  },
  {
   "cell_type": "markdown",
   "metadata": {},
   "source": [
    "# Importing Required Libraries"
   ]
  },
  {
   "cell_type": "code",
   "execution_count": 2,
   "metadata": {},
   "outputs": [],
   "source": [
    "import pandas as pd\n",
    "from typing import Tuple\n",
    "from sklearn.model_selection import train_test_split\n",
    "import re\n",
    "from nltk.corpus import stopwords\n",
    "from nltk.tokenize import word_tokenize"
   ]
  },
  {
   "cell_type": "markdown",
   "metadata": {},
   "source": [
    "# Download NLTK stopwords (if not already downloaded)"
   ]
  },
  {
   "cell_type": "code",
   "execution_count": 3,
   "metadata": {},
   "outputs": [
    {
     "name": "stderr",
     "output_type": "stream",
     "text": [
      "[nltk_data] Downloading package stopwords to /home/gg8576/nltk_data...\n",
      "[nltk_data]   Package stopwords is already up-to-date!\n",
      "[nltk_data] Downloading package punkt to /home/gg8576/nltk_data...\n",
      "[nltk_data]   Package punkt is already up-to-date!\n"
     ]
    },
    {
     "data": {
      "text/plain": [
       "True"
      ]
     },
     "execution_count": 3,
     "metadata": {},
     "output_type": "execute_result"
    }
   ],
   "source": [
    "import nltk\n",
    "nltk.download(\"stopwords\")\n",
    "nltk.download(\"punkt\")"
   ]
  },
  {
   "cell_type": "markdown",
   "metadata": {},
   "source": [
    "# Defining Necessary Functions"
   ]
  },
  {
   "cell_type": "code",
   "execution_count": 4,
   "metadata": {},
   "outputs": [],
   "source": [
    "# Function to load data from a given file path\n",
    "def load_data(file_path: str) -> pd.DataFrame:\n",
    "    data = pd.read_csv(file_path)\n",
    "    return data\n",
    "\n",
    "# Function to preprocess the text data\n",
    "def preprocess_text(text: str) -> str:\n",
    "    # Converting to lowercase\n",
    "    text = text.strip().lower()\n",
    "\n",
    "    # Removing special characters, numbers, and extra whitespaces\n",
    "    text = re.sub(r\"[^a-zA_Z\\d\\s]\", \"\", text)\n",
    "\n",
    "    # Removing stopwords\n",
    "    stop_words = set(stopwords.words(\"english\"))\n",
    "    word_tokens = word_tokenize(text)\n",
    "    filtered_text = [word for word in word_tokens if word not in stop_words]\n",
    "\n",
    "    # Joining the filtered words back into a string\n",
    "    processed_text = \" \".join(filtered_text)\n",
    "\n",
    "    return processed_text\n",
    "\n",
    "# Function to preprocess the data\n",
    "def preprocess_data(data: pd.DataFrame) -> pd.DataFrame:\n",
    "    data = data.dropna()\n",
    "\n",
    "    # Applying text preprocessing to the \"text\" column\n",
    "    data[\"text\"] = data[\"text\"].apply(preprocess_text)\n",
    "\n",
    "    # Dropping duplicate texts\n",
    "    data.drop_duplicates(\"text\", inplace = True)\n",
    "\n",
    "    return data\n",
    "\n",
    "# Function to split the data into train/validation/test sets\n",
    "def split_data(data: pd.DataFrame) -> Tuple[pd.DataFrame, pd.DataFrame, pd.DataFrame]:\n",
    "    # Splitting the data into 80% training, 10% validation, and 10% test\n",
    "    train, test = train_test_split(data, test_size = 0.2, random_state = 42)\n",
    "    validation, test = train_test_split(test, test_size = 0.5, random_state = 42)\n",
    "\n",
    "    return train, validation, test\n",
    "\n",
    "# Function to store the splits at train.csv, validation.csv, and test.csv\n",
    "def store_splits(train: pd.DataFrame, validation: pd.DataFrame, test: pd.DataFrame) -> None:\n",
    "    train.to_csv(\"train.csv\", index = False)\n",
    "    validation.to_csv(\"validation.csv\", index = False)\n",
    "    test.to_csv(\"test.csv\", index = False)"
   ]
  },
  {
   "cell_type": "markdown",
   "metadata": {},
   "source": [
    "# Loading, Splitting and Storing the Data"
   ]
  },
  {
   "cell_type": "code",
   "execution_count": 5,
   "metadata": {},
   "outputs": [],
   "source": [
    "# loading data\n",
    "file_path = \"emails.csv\"\n",
    "data = load_data(file_path)\n",
    "\n",
    "# preprocessing data\n",
    "data = preprocess_data(data)\n",
    "\n",
    "# splitting and writing data\n",
    "train, validation, test = split_data(data)\n",
    "store_splits(train, validation, test)"
   ]
  }
 ],
 "metadata": {
  "kernelspec": {
   "display_name": "Python 3",
   "language": "python",
   "name": "python3"
  },
  "language_info": {
   "codemirror_mode": {
    "name": "ipython",
    "version": 3
   },
   "file_extension": ".py",
   "mimetype": "text/x-python",
   "name": "python",
   "nbconvert_exporter": "python",
   "pygments_lexer": "ipython3",
   "version": "3.11.8"
  }
 },
 "nbformat": 4,
 "nbformat_minor": 2
}
